{
 "cells": [
  {
   "cell_type": "markdown",
   "metadata": {},
   "source": [
    "# Welcome! "
   ]
  },
  {
   "cell_type": "markdown",
   "metadata": {},
   "source": [
    "### Introduction: Statistics & Me\n",
    "\n",
    "Since the beginning of the 2021-22 school year, I have been enrolled in AP Statistics Classes at Phillips Academy. Currently, we are dealing with inference (confidence intervals, hypotheses tests) in the class. One of the most frequently-mentioned themes in our class is __statistics versus parameters__; a statistic is some attribute of a sample, while a parameter is that same attribute for an entire population. "
   ]
  },
  {
   "cell_type": "markdown",
   "metadata": {},
   "source": [
    "You may be wondering: why is this concept of statistic vs. parameter so important? Well, the answer is as follows: Most people forget that statistics and parameters are different things! \n",
    "\n",
    "For this assignment, __I wish to visualize (using a fake dataset) what people believe the difference between statistics and parameteres is__, if any. This will give me good exprience with both creating fake data and using bar graphs. "
   ]
  },
  {
   "cell_type": "markdown",
   "metadata": {},
   "source": [
    "## Imports"
   ]
  },
  {
   "cell_type": "code",
   "execution_count": 2,
   "metadata": {},
   "outputs": [],
   "source": [
    "import pandas as pd\n",
    "import matplotlib.pyplot as plt"
   ]
  },
  {
   "cell_type": "markdown",
   "metadata": {},
   "source": [
    "## Importing the Data"
   ]
  },
  {
   "cell_type": "code",
   "execution_count": 7,
   "metadata": {},
   "outputs": [
    {
     "data": {
      "text/html": [
       "<div>\n",
       "<style scoped>\n",
       "    .dataframe tbody tr th:only-of-type {\n",
       "        vertical-align: middle;\n",
       "    }\n",
       "\n",
       "    .dataframe tbody tr th {\n",
       "        vertical-align: top;\n",
       "    }\n",
       "\n",
       "    .dataframe thead th {\n",
       "        text-align: right;\n",
       "    }\n",
       "</style>\n",
       "<table border=\"1\" class=\"dataframe\">\n",
       "  <thead>\n",
       "    <tr style=\"text-align: right;\">\n",
       "      <th></th>\n",
       "      <th>What is the Difference Between a Statistic and a Parameter?</th>\n",
       "    </tr>\n",
       "  </thead>\n",
       "  <tbody>\n",
       "    <tr>\n",
       "      <th>0</th>\n",
       "      <td>Statistic is for Sample &amp; Parameter is for Pop...</td>\n",
       "    </tr>\n",
       "    <tr>\n",
       "      <th>1</th>\n",
       "      <td>No difference</td>\n",
       "    </tr>\n",
       "    <tr>\n",
       "      <th>2</th>\n",
       "      <td>One Lives on Land and the Other in the Sea</td>\n",
       "    </tr>\n",
       "    <tr>\n",
       "      <th>3</th>\n",
       "      <td>Statistic is for Sample &amp; Parameter is for Pop...</td>\n",
       "    </tr>\n",
       "    <tr>\n",
       "      <th>4</th>\n",
       "      <td>One Lives on Land and the Other in the Sea</td>\n",
       "    </tr>\n",
       "    <tr>\n",
       "      <th>...</th>\n",
       "      <td>...</td>\n",
       "    </tr>\n",
       "    <tr>\n",
       "      <th>995</th>\n",
       "      <td>No difference</td>\n",
       "    </tr>\n",
       "    <tr>\n",
       "      <th>996</th>\n",
       "      <td>Statistic is for Sample &amp; Parameter is for Pop...</td>\n",
       "    </tr>\n",
       "    <tr>\n",
       "      <th>997</th>\n",
       "      <td>Statistic is for Sample &amp; Parameter is for Pop...</td>\n",
       "    </tr>\n",
       "    <tr>\n",
       "      <th>998</th>\n",
       "      <td>One Lives on Land and the Other in the Sea</td>\n",
       "    </tr>\n",
       "    <tr>\n",
       "      <th>999</th>\n",
       "      <td>No difference</td>\n",
       "    </tr>\n",
       "  </tbody>\n",
       "</table>\n",
       "<p>1000 rows × 1 columns</p>\n",
       "</div>"
      ],
      "text/plain": [
       "    What is the Difference Between a Statistic and a Parameter?\n",
       "0    Statistic is for Sample & Parameter is for Pop...         \n",
       "1                                        No difference         \n",
       "2           One Lives on Land and the Other in the Sea         \n",
       "3    Statistic is for Sample & Parameter is for Pop...         \n",
       "4           One Lives on Land and the Other in the Sea         \n",
       "..                                                 ...         \n",
       "995                                      No difference         \n",
       "996  Statistic is for Sample & Parameter is for Pop...         \n",
       "997  Statistic is for Sample & Parameter is for Pop...         \n",
       "998         One Lives on Land and the Other in the Sea         \n",
       "999                                      No difference         \n",
       "\n",
       "[1000 rows x 1 columns]"
      ]
     },
     "execution_count": 7,
     "metadata": {},
     "output_type": "execute_result"
    }
   ],
   "source": [
    "data = pd.read_csv(\"stats_data.csv\")\n",
    "data "
   ]
  },
  {
   "cell_type": "markdown",
   "metadata": {},
   "source": [
    "Organize the data a bit: how many responses for each choice? "
   ]
  },
  {
   "cell_type": "code",
   "execution_count": 26,
   "metadata": {},
   "outputs": [
    {
     "data": {
      "text/plain": [
       "array(['Statistic is for Sample & Parameter is for Population',\n",
       "       'No difference', 'One Lives on Land and the Other in the Sea'],\n",
       "      dtype=object)"
      ]
     },
     "execution_count": 26,
     "metadata": {},
     "output_type": "execute_result"
    }
   ],
   "source": [
    "data[\"What is the Difference Between a Statistic and a Parameter?\"].unique()"
   ]
  },
  {
   "cell_type": "markdown",
   "metadata": {},
   "source": [
    "## Visualizing the Responses using a Bar Graph"
   ]
  },
  {
   "cell_type": "code",
   "execution_count": 29,
   "metadata": {},
   "outputs": [
    {
     "data": {
      "image/png": "[encoded data removed]",
      "text/plain": [
       "<Figure size 1440x720 with 1 Axes>"
      ]
     },
     "metadata": {
      "needs_background": "light"
     },
     "output_type": "display_data"
    }
   ],
   "source": [
    "# plot\n",
    "plt.figure(figsize = (20,10))\n",
    "\n",
    "plt.xlabel(xlabel=\"Response\", fontsize=20)\n",
    "plt.ylabel(ylabel=\"Number of Respondants\", fontsize=20)\n",
    "plt.title(label=\"Poll: What is the Difference Between a Statistic and a Parameter?\", fontsize=28)\n",
    "\n",
    "plt.bar(x = data[\"What is the Difference Between a Statistic and a Parameter?\"].unique(), \n",
    "        height=data.value_counts().values)\n",
    "\n",
    "for resp in range(3):\n",
    "    plt.text(x = data[\"What is the Difference Between a Statistic and a Parameter?\"].unique()[resp],\n",
    "             y = data.value_counts().values[resp] + 5,\n",
    "             s = data.value_counts()[resp])\n",
    "\n",
    "plt.show()"
   ]
  },
  {
   "cell_type": "markdown",
   "metadata": {},
   "source": [
    "## Takeaways"
   ]
  },
  {
   "cell_type": "markdown",
   "metadata": {},
   "source": [
    "A large portion, 363/1000 of the respondants in my dataset actually got the answer correct! 322 made the faulty assumption that there is no difference between a statistic and a parameter, and 315 made the silly assumption that a statistic lives on land while a parameter lives in the sea. "
   ]
  }
 ],
 "metadata": {
  "interpreter": {
   "hash": "082e9a3bcad0a290d0001e938aa60b99250c6c2ef33a923c00b70f9826caf4b7"
  },
  "kernelspec": {
   "display_name": "Python 3.8.3 64-bit",
   "language": "python",
   "name": "python3"
  },
  "language_info": {
   "codemirror_mode": {
    "name": "ipython",
    "version": 3
   },
   "file_extension": ".py",
   "mimetype": "text/x-python",
   "name": "python",
   "nbconvert_exporter": "python",
   "pygments_lexer": "ipython3",
   "version": "3.8.3"
  },
  "orig_nbformat": 4
 },
 "nbformat": 4,
 "nbformat_minor": 2
}
